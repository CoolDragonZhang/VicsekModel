{
 "cells": [
  {
   "cell_type": "markdown",
   "metadata": {},
   "source": [
    "# Discrete Vicsek model in 2d"
   ]
  },
  {
   "cell_type": "code",
   "execution_count": 1,
   "metadata": {},
   "outputs": [],
   "source": [
    "import numpy as np\n",
    "import matplotlib.pyplot as plt\n",
    "from scipy.spatial import KDTree"
   ]
  },
  {
   "cell_type": "code",
   "execution_count": 2,
   "metadata": {},
   "outputs": [],
   "source": [
    "def get_neighbors(positions, idx, neighbor_dist, kd_tree: KDTree):\n",
    "    x, y = positions[idx]\n",
    "    indices = kd_tree.query_ball_point((x, y), neighbor_dist)\n",
    "    return np.array(indices) % len(positions)\n",
    "\n",
    "def get_average_velocities(velocities, indices, eta, v_0):\n",
    "    new_velocity = np.sum(velocities[indices], axis=0)\n",
    "    angle = np.arctan2(new_velocity[1], new_velocity[0])\n",
    "    angle = angle + np.random.random() * eta - eta / 2\n",
    "    return np.array([np.cos(angle), np.sin(angle)]) * v_0\n",
    "\n",
    "def get_PBC_points(points, L):\n",
    "    relative_delta_list = [[0, 0], [0, L], [L, 0], [0, -L], [-L, 0], [L, L], [L, -L], [-L, L], [-L, -L]]\n",
    "    return np.concatenate([points + np.array([_]) for _ in relative_delta_list])"
   ]
  },
  {
   "cell_type": "code",
   "execution_count": 3,
   "metadata": {},
   "outputs": [],
   "source": [
    "def simulate(num_particles, eta, v_0, neighbor_dist, L, num_iter, num_repeat):\n",
    "    positions = np.random.random(size=(num_particles, 2)) * L\n",
    "    velocities = np.random.random(size=num_particles) * 2 * np.pi\n",
    "    velocities = np.array([np.cos(velocities), np.sin(velocities)]).T * v_0\n",
    "    history_postions = []\n",
    "    history_velocities = []\n",
    "    for iter in range(num_iter):\n",
    "        # 更新速度\n",
    "        new_vel = np.zeros_like(velocities)\n",
    "        kd_tree = KDTree(get_PBC_points(positions, L))\n",
    "        for idx in range(len(positions)):\n",
    "            new_vel[idx] = get_average_velocities(velocities, get_neighbors(positions, idx, neighbor_dist, kd_tree), eta, v_0)\n",
    "        # 更新位置\n",
    "        positions = (positions + new_vel) % np.array([L, L])\n",
    "        velocities = new_vel\n",
    "        history_postions.append(positions.copy())\n",
    "        history_velocities.append(velocities.copy())\n",
    "        # if iter % 100 == 0:\n",
    "            # print(iter)\n",
    "    np.save('./SimulationData/positions(np%d,eta%.2f,v0%.2f,nd%.2f,L%.2f,ni%d,nr%d).npy' % (num_particles, eta, v_0, neighbor_dist, L, num_iter, num_repeat), history_postions)\n",
    "    np.save('./SimulationData/velocities(np%d,eta%.2f,v0%.2f,nd%.2f,L%.2f,ni%d,nr%d).npy' % (num_particles, eta, v_0, neighbor_dist, L, num_iter, num_repeat), history_velocities)"
   ]
  },
  {
   "cell_type": "code",
   "execution_count": 43,
   "metadata": {},
   "outputs": [
    {
     "name": "stdout",
     "output_type": "stream",
     "text": [
      "(400, 4.5, 0.03, 1.0, 10.0, 1000, 0)\n",
      "(400, 4.5, 0.03, 1.0, 10.0, 1000, 1)\n"
     ]
    },
    {
     "ename": "KeyboardInterrupt",
     "evalue": "",
     "output_type": "error",
     "traceback": [
      "\u001b[1;31m---------------------------------------------------------------------------\u001b[0m",
      "\u001b[1;31mKeyboardInterrupt\u001b[0m                         Traceback (most recent call last)",
      "Cell \u001b[1;32mIn[43], line 11\u001b[0m\n\u001b[0;32m      8\u001b[0m num_repeat_s \u001b[38;5;241m=\u001b[39m \u001b[38;5;28mlist\u001b[39m(\u001b[38;5;28mrange\u001b[39m(\u001b[38;5;241m5\u001b[39m))\n\u001b[0;32m     10\u001b[0m \u001b[38;5;28;01mfor\u001b[39;00m combination \u001b[38;5;129;01min\u001b[39;00m itertools\u001b[38;5;241m.\u001b[39mproduct(num_particles_s, eta_s, v_0_s, neighbor_dist_s, L_s, num_iter_s, num_repeat_s):\n\u001b[1;32m---> 11\u001b[0m     \u001b[43msimulate\u001b[49m\u001b[43m(\u001b[49m\u001b[38;5;241;43m*\u001b[39;49m\u001b[43mcombination\u001b[49m\u001b[43m)\u001b[49m\n\u001b[0;32m     12\u001b[0m     \u001b[38;5;28mprint\u001b[39m(combination)\n",
      "Cell \u001b[1;32mIn[3], line 10\u001b[0m, in \u001b[0;36msimulate\u001b[1;34m(num_particles, eta, v_0, neighbor_dist, L, num_iter, num_repeat)\u001b[0m\n\u001b[0;32m      7\u001b[0m \u001b[38;5;28;01mfor\u001b[39;00m \u001b[38;5;28miter\u001b[39m \u001b[38;5;129;01min\u001b[39;00m \u001b[38;5;28mrange\u001b[39m(num_iter):\n\u001b[0;32m      8\u001b[0m     \u001b[38;5;66;03m# 更新速度\u001b[39;00m\n\u001b[0;32m      9\u001b[0m     new_vel \u001b[38;5;241m=\u001b[39m np\u001b[38;5;241m.\u001b[39mzeros_like(velocities)\n\u001b[1;32m---> 10\u001b[0m     kd_tree \u001b[38;5;241m=\u001b[39m \u001b[43mKDTree\u001b[49m\u001b[43m(\u001b[49m\u001b[43mget_PBC_points\u001b[49m\u001b[43m(\u001b[49m\u001b[43mpositions\u001b[49m\u001b[43m,\u001b[49m\u001b[43m \u001b[49m\u001b[43mL\u001b[49m\u001b[43m)\u001b[49m\u001b[43m)\u001b[49m\n\u001b[0;32m     11\u001b[0m     \u001b[38;5;28;01mfor\u001b[39;00m idx \u001b[38;5;129;01min\u001b[39;00m \u001b[38;5;28mrange\u001b[39m(\u001b[38;5;28mlen\u001b[39m(positions)):\n\u001b[0;32m     12\u001b[0m         new_vel[idx] \u001b[38;5;241m=\u001b[39m get_average_velocities(velocities, get_neighbors(positions, idx, neighbor_dist, kd_tree), eta, v_0)\n",
      "File \u001b[1;32md:\\Anaconda\\envs\\geo\\lib\\site-packages\\scipy\\spatial\\_kdtree.py:360\u001b[0m, in \u001b[0;36mKDTree.__init__\u001b[1;34m(self, data, leafsize, compact_nodes, copy_data, balanced_tree, boxsize)\u001b[0m\n\u001b[0;32m    357\u001b[0m     \u001b[38;5;28;01mraise\u001b[39;00m \u001b[38;5;167;01mTypeError\u001b[39;00m(\u001b[38;5;124m\"\u001b[39m\u001b[38;5;124mKDTree does not work with complex data\u001b[39m\u001b[38;5;124m\"\u001b[39m)\n\u001b[0;32m    359\u001b[0m \u001b[38;5;66;03m# Note KDTree has different default leafsize from cKDTree\u001b[39;00m\n\u001b[1;32m--> 360\u001b[0m \u001b[38;5;28;43msuper\u001b[39;49m\u001b[43m(\u001b[49m\u001b[43m)\u001b[49m\u001b[38;5;241;43m.\u001b[39;49m\u001b[38;5;21;43m__init__\u001b[39;49m\u001b[43m(\u001b[49m\u001b[43mdata\u001b[49m\u001b[43m,\u001b[49m\u001b[43m \u001b[49m\u001b[43mleafsize\u001b[49m\u001b[43m,\u001b[49m\u001b[43m \u001b[49m\u001b[43mcompact_nodes\u001b[49m\u001b[43m,\u001b[49m\u001b[43m \u001b[49m\u001b[43mcopy_data\u001b[49m\u001b[43m,\u001b[49m\n\u001b[0;32m    361\u001b[0m \u001b[43m                 \u001b[49m\u001b[43mbalanced_tree\u001b[49m\u001b[43m,\u001b[49m\u001b[43m \u001b[49m\u001b[43mboxsize\u001b[49m\u001b[43m)\u001b[49m\n",
      "\u001b[1;31mKeyboardInterrupt\u001b[0m: "
     ]
    }
   ],
   "source": [
    "import itertools\n",
    "num_particles_s = [400, 4000, 10000]\n",
    "eta_s = np.arange(4.5, 5.1, 0.1)\n",
    "v_0_s = [0.03]\n",
    "neighbor_dist_s = [1.0]\n",
    "L_s = [np.sqrt(n_p / 4) for n_p in num_particles_s]\n",
    "num_iter_s = [1000]\n",
    "num_repeat_s = list(range(5))\n",
    "\n",
    "for combination in itertools.product(num_particles_s, eta_s, v_0_s, neighbor_dist_s, L_s, num_iter_s, num_repeat_s):\n",
    "    simulate(*combination)\n",
    "    print(combination)\n",
    "  "
   ]
  },
  {
   "cell_type": "code",
   "execution_count": 46,
   "metadata": {},
   "outputs": [],
   "source": [
    "history_postions = np.load('./SimulationData/positions(np400,eta4.50,v00.03,nd1.00,L10.00,ni1000,nr1).npy')\n",
    "history_velocities = np.load('./SimulationData/velocities(np400,eta4.50,v00.03,nd1.00,L10.00,ni1000,nr1).npy')\n",
    "num_particles = 400\n",
    "eta = 3.5\n",
    "v_0 = 0.03\n",
    "neighbor_dist = 1.0\n",
    "L = 10\n",
    "num_iter = 1000"
   ]
  },
  {
   "cell_type": "code",
   "execution_count": 47,
   "metadata": {},
   "outputs": [
    {
     "data": {
      "text/plain": [
       "0.10101269154807634"
      ]
     },
     "execution_count": 47,
     "metadata": {},
     "output_type": "execute_result"
    }
   ],
   "source": [
    "np.mean(np.sqrt(np.sum(np.mean(history_velocities[500:], axis=1) * np.mean(history_velocities[500:], axis=1), axis=1))) / .03"
   ]
  },
  {
   "cell_type": "code",
   "execution_count": 20,
   "metadata": {},
   "outputs": [
    {
     "data": {
      "image/png": "[encoded data removed]",
      "text/plain": [
       "<Figure size 640x480 with 2 Axes>"
      ]
     },
     "metadata": {},
     "output_type": "display_data"
    }
   ],
   "source": [
    "import numpy as np\n",
    "import matplotlib.pyplot as plt\n",
    "from matplotlib.animation import FuncAnimation\n",
    "\n",
    "# 假设点位数据，这里生成一些随机数据作为示例\n",
    "x_data = history_postions[0].T[0]\n",
    "y_data = history_postions[0].T[1]\n",
    "\n",
    "\n",
    "mosaic = \"\"\"\n",
    "    AB\n",
    "    \"\"\"\n",
    "fig, axs = plt.subplot_mosaic(mosaic)\n",
    "plt.subplots_adjust(left=0.1,  # 左边界留白\n",
    "                    right=0.9,  # 右边界留白\n",
    "                    bottom=0.1,  # 底部界留白\n",
    "                    top=0.9,  # 顶部界留白\n",
    "                    wspace=0.2,  # 子图之间的宽度间距\n",
    "                    hspace=0.2)\n",
    "\n",
    "line, = axs['A'].plot([], [], 'bo', markersize=1)  # 'bo'表示蓝色圆点\n",
    "angle_vel, = axs['B'].plot([], [], 'ro', alpha=0.1, markersize=1)\n",
    "average_vel = axs['B'].arrow(0, 0, 0, 0, head_width=0.1 * v_0, head_length=0.1 * v_0, overhang=0.4, linewidth = 0.1 * v_0)\n",
    "\n",
    "# 初始化函数，用于FuncAnimation\n",
    "def init():\n",
    "    axs['A'].set_title('Motion of agents')\n",
    "    axs['A'].set_xlim(0, L)\n",
    "    axs['A'].set_ylim(0, L)\n",
    "    axs['A'].axis('scaled')\n",
    "    axs['A'].set_xticks([])\n",
    "    axs['A'].set_yticks([])\n",
    "    axs['A'].set_xticklabels([])\n",
    "    axs['A'].set_yticklabels([])\n",
    "\n",
    "    axs['B'].set_title('Directions')\n",
    "    axs['B'].axis('scaled')\n",
    "    axs['B'].set_xlim(-1.1 * v_0, 1.1 * v_0)\n",
    "    axs['B'].set_ylim(-1.1 * v_0, 1.1 * v_0)\n",
    "    axs['B'].set_xticks([])\n",
    "    axs['B'].set_yticks([])\n",
    "    axs['B'].set_xticklabels([])\n",
    "    axs['B'].set_yticklabels([])\n",
    "\n",
    "    return line,\n",
    "\n",
    "# 更新函数，每一帧调用一次\n",
    "def update(frame):\n",
    "    line.set_data(history_postions[frame+1].T[0], history_postions[frame+1].T[1])\n",
    "    angle_vel.set_data(history_velocities[frame+1].T[0], history_velocities[frame+1].T[1])\n",
    "    average_vel.set_data(x=0, y=0, dx=np.mean(history_velocities[frame+1].T[0]), dy = np.mean(history_velocities[frame+1].T[1]))\n",
    "    return line, angle_vel,\n",
    "\n",
    "# 创建动画\n",
    "ani = FuncAnimation(fig, update, frames=range(num_iter-1), init_func=init, blit=True)\n",
    "\n",
    "# 显示动画\n",
    "ani.save('animation(x).mp4', fps=50, dpi=300)\n"
   ]
  },
  {
   "cell_type": "code",
   "execution_count": 39,
   "metadata": {},
   "outputs": [
    {
     "data": {
      "text/plain": [
       "0.01106082850892962"
      ]
     },
     "execution_count": 39,
     "metadata": {},
     "output_type": "execute_result"
    }
   ],
   "source": [
    "np.mean(np.sqrt(np.sum(np.mean(history_velocities[500:], axis=1) * np.mean(history_velocities[500:], axis=1), axis=1)))"
   ]
  },
  {
   "cell_type": "code",
   "execution_count": 23,
   "metadata": {},
   "outputs": [
    {
     "data": {
      "text/plain": [
       "array([[[-0.01305166, -0.02701211],\n",
       "        [-0.01084775,  0.0279701 ],\n",
       "        [-0.022474  ,  0.01987258],\n",
       "        ...,\n",
       "        [ 0.02050658,  0.02189704],\n",
       "        [ 0.02910082, -0.00728987],\n",
       "        [-0.00594071, -0.02940592]],\n",
       "\n",
       "       [[-0.02846353, -0.00947775],\n",
       "        [-0.01437128,  0.02633375],\n",
       "        [-0.00097101, -0.02998428],\n",
       "        ...,\n",
       "        [ 0.01509025,  0.02592845],\n",
       "        [ 0.01431506, -0.02636435],\n",
       "        [ 0.02976915,  0.00371452]],\n",
       "\n",
       "       [[-0.01006513, -0.02826116],\n",
       "        [ 0.02865672, -0.00887652],\n",
       "        [-0.00493403, -0.02959147],\n",
       "        ...,\n",
       "        [-0.00563599, -0.02946584],\n",
       "        [ 0.02997131,  0.0013118 ],\n",
       "        [ 0.02412534, -0.01783166]],\n",
       "\n",
       "       ...,\n",
       "\n",
       "       [[ 0.00146862, -0.02996403],\n",
       "        [-0.00766963, -0.02900305],\n",
       "        [-0.013663  , -0.0267081 ],\n",
       "        ...,\n",
       "        [ 0.02579652,  0.01531469],\n",
       "        [-0.00497351, -0.02958486],\n",
       "        [-0.0013596 , -0.02996918]],\n",
       "\n",
       "       [[-0.00837422, -0.02880751],\n",
       "        [-0.00977559, -0.02836261],\n",
       "        [-0.02999795,  0.00035075],\n",
       "        ...,\n",
       "        [ 0.0260317 , -0.01491142],\n",
       "        [-0.01599223, -0.02538205],\n",
       "        [-0.00998923, -0.02828808]],\n",
       "\n",
       "       [[ 0.01410644, -0.02647656],\n",
       "        [ 0.02977335, -0.0036807 ],\n",
       "        [-0.02331685,  0.01887655],\n",
       "        ...,\n",
       "        [ 0.02924187, -0.00670171],\n",
       "        [-0.02563411, -0.01558501],\n",
       "        [-0.02313971, -0.01909329]]])"
      ]
     },
     "execution_count": 23,
     "metadata": {},
     "output_type": "execute_result"
    }
   ],
   "source": [
    "history_velocities"
   ]
  },
  {
   "cell_type": "code",
   "execution_count": null,
   "metadata": {},
   "outputs": [],
   "source": []
  }
 ],
 "metadata": {
  "kernelspec": {
   "display_name": "Python 3",
   "language": "python",
   "name": "python3"
  },
  "language_info": {
   "codemirror_mode": {
    "name": "ipython",
    "version": 3
   },
   "file_extension": ".py",
   "mimetype": "text/x-python",
   "name": "python",
   "nbconvert_exporter": "python",
   "pygments_lexer": "ipython3",
   "version": "3.9.18"
  }
 },
 "nbformat": 4,
 "nbformat_minor": 2
}
